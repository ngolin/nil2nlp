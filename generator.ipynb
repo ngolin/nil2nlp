{
 "cells": [
  {
   "cell_type": "markdown",
   "id": "f0500040",
   "metadata": {},
   "source": [
    "# 生成器：按国别生成人名\n",
    "> 原文：https://docs.pytorch.org/tutorials/intermediate/char_rnn_generation_tutorial.html\n",
    "\n",
    "本篇笔记用更简洁和现代的 API 重新实现原文的分类器，并提供更好的可读性和更好的性能。\n",
    "\n",
    "- 在训练和预测时，实现了以前序多个字符预测下一个字符，原文只实现了前一个字符预测下一个字符\n",
    "- 相对于原文本模型设计有三点改进：\n",
    "\n",
    "1. 以国别信息作为第一个字符，实现了只需输入国别信息就可以生成对应的名字；\n",
    "2. 原文并没把国别信息作为字符进行统一编码，而是国别和字符分别编码，再拼接在一起作为输入，导致模型参数偏多；\n",
    "3. 原文在使用体验也不好，不仅要输入国别信息，还要输入首个字符，才能进行生成。"
   ]
  },
  {
   "cell_type": "code",
   "execution_count": 1,
   "id": "24bad1e2",
   "metadata": {},
   "outputs": [
    {
     "data": {
      "text/plain": [
       "<torch._C.Generator at 0x11a114ad0>"
      ]
     },
     "execution_count": 1,
     "metadata": {},
     "output_type": "execute_result"
    }
   ],
   "source": [
    "import torch\n",
    "import torch.nn as nn\n",
    "import matplotlib.pyplot as plt\n",
    "\n",
    "%matplotlib inline\n",
    "\n",
    "torch.manual_seed(9527)"
   ]
  },
  {
   "cell_type": "markdown",
   "id": "29a191fe",
   "metadata": {},
   "source": [
    "## 1. 数据理解\n",
    "\n",
    "`data/names/{nation}.txt` 有多个 txt 文件，文件名为国别标签，文件内容每行为一个名字。现把原始数据按文件读出，初步统计国别、名字及字符规模。"
   ]
  },
  {
   "cell_type": "code",
   "execution_count": 2,
   "id": "56447cdd",
   "metadata": {},
   "outputs": [
    {
     "data": {
      "text/plain": [
       "(106, 20074)"
      ]
     },
     "execution_count": 2,
     "metadata": {},
     "output_type": "execute_result"
    }
   ],
   "source": [
    "from glob import glob\n",
    "\n",
    "nation2names, charset = {}, set()\n",
    "\n",
    "for path in glob(\"data/names/*.txt\"):\n",
    "    nation = path.split(\"/\")[-1].split(\".\")[0]\n",
    "    with open(path, \"r\", encoding=\"utf-8\") as f:\n",
    "        names = [name.strip() for name in f.readlines() if name.strip()]\n",
    "        nation2names[nation] = names\n",
    "        charset.update(*names)\n",
    "\n",
    "nations = list(nation2names)\n",
    "chars = \"\".join(sorted(charset))\n",
    "\n",
    "vocab_size = len(nations) + len(chars) + 1  # +1 for the <EOS> character\n",
    "\n",
    "vocab_size, sum(len(names) for names in nation2names.values())"
   ]
  },
  {
   "cell_type": "markdown",
   "id": "b7ecc2ba",
   "metadata": {},
   "source": [
    "## 2. 模型设计\n",
    "\n",
    "1. 所有 name 以为国别信息作为第一个字符，并在末尾显式增加结束字符，如 `<English>Abbas<EOS>` 一共 7 个字符\n",
    "2. 因为国别也是名字的一部分，这样只需输入就可以生成对应国别的名字，在遇到结束字符时停止生成\n",
    "3. 普通字符、国别字符和结束字符统一 one-hot 编码，总的 `vocab_size` 为 `label_size + chars_size + 1`\n",
    "4. 每个 name 都会生成一个子数据集用于训练，生成规则是前序字符预测下一个字符，如 `<English>Abbas<EOS>`：\n",
    "```\n",
    "         <English> -> A\n",
    "        <English>A -> b\n",
    "       <English>Ab -> b\n",
    "      <English>Abb -> a\n",
    "     <English>Abba -> s\n",
    "    <English>Abbas -> <EOS>\n",
    "```\n",
    "5. `(L, vocab_size)` -> LSTM -> `(hidden_size)` -> Linear -> `(vocab_size)`\n"
   ]
  },
  {
   "cell_type": "code",
   "execution_count": 3,
   "id": "2159e6a7",
   "metadata": {},
   "outputs": [
    {
     "data": {
      "text/plain": [
       "Generator(\n",
       "  (lstm): LSTM(106, 128)\n",
       "  (line): Linear(in_features=128, out_features=106, bias=False)\n",
       ")"
      ]
     },
     "execution_count": 3,
     "metadata": {},
     "output_type": "execute_result"
    }
   ],
   "source": [
    "class Generator(nn.Module):\n",
    "    def __init__(self, vocab_size, hidden_size):\n",
    "        super().__init__()\n",
    "        self.lstm = nn.LSTM(vocab_size, hidden_size)\n",
    "        self.line = nn.Linear(hidden_size, vocab_size, bias=False)\n",
    "\n",
    "    def forward(self, x, hc=None):\n",
    "        _, (h, _) = self.lstm(x, hc)\n",
    "        y = self.line(h[-1])\n",
    "        return y\n",
    "\n",
    "\n",
    "model = Generator(vocab_size, 128)\n",
    "model"
   ]
  },
  {
   "cell_type": "markdown",
   "id": "72a99493",
   "metadata": {},
   "source": [
    "## 3. 数据准备\n",
    "\n",
    "1. 实现 name one hot 编码，编号顺序是 nations, <EOS>, chars\n",
    "2. 实现 Dataset 和 DataLoader, batch_size 为 64"
   ]
  },
  {
   "cell_type": "code",
   "execution_count": 4,
   "id": "038d9077",
   "metadata": {},
   "outputs": [
    {
     "name": "stdout",
     "output_type": "stream",
     "text": [
      "torch.Size([8, 106]) tensor(56)\n"
     ]
    }
   ],
   "source": [
    "\n",
    "import torch.nn.functional as F\n",
    "from torch.utils.data import Dataset, DataLoader\n",
    "\n",
    "def one_hot_encode(nation, name):\n",
    "    indices = [\n",
    "        nations.index(nation),\n",
    "        *(chars.find(c) + len(nations) + 1 for c in name),\n",
    "        len(nations),\n",
    "    ]\n",
    "    return F.one_hot(torch.tensor(indices), vocab_size).float()\n",
    "\n",
    "\n",
    "def one_hot_decode(x):\n",
    "    return \"\".join(chars[i - len(nations) - 1] for i in x.argmax(dim=-1).tolist())\n",
    "\n",
    "\n",
    "class Dataset(Dataset):\n",
    "    def __init__(self, nation2names):\n",
    "        self.data = []\n",
    "        for nation, names in nation2names.items():\n",
    "            for name in names:\n",
    "                x = one_hot_encode(nation, name)\n",
    "                for i in range(1, len(x)):\n",
    "                    self.data.append((x[:i], x[i].argmax()))\n",
    "\n",
    "    def __len__(self):\n",
    "        return len(self.data)\n",
    "\n",
    "    def __getitem__(self, idx):\n",
    "        return self.data[idx]\n",
    "\n",
    "\n",
    "batch_size, dataset = 64, Dataset(nation2names)\n",
    "\n",
    "dataloader = DataLoader(dataset, batch_size, shuffle=True, collate_fn=lambda x: x)\n",
    "\n",
    "for batch in dataloader:\n",
    "    for x, y in batch:\n",
    "        print(x.shape, y)\n",
    "        break\n",
    "    break"
   ]
  },
  {
   "cell_type": "markdown",
   "id": "bf6bcc72",
   "metadata": {},
   "source": [
    "## 4. 模型训练\n",
    "\n",
    "1. 损失函数用 nn.CrossEntropyLoss\n",
    "2. 优化器用 optim.Adam"
   ]
  },
  {
   "cell_type": "code",
   "execution_count": 5,
   "id": "f06c8151",
   "metadata": {},
   "outputs": [
    {
     "name": "stdout",
     "output_type": "stream",
     "text": [
      "Epoch  1/5, Loss: 2.5319938108359956\n",
      "Epoch  2/5, Loss: 2.1516759950169555\n",
      "Epoch  3/5, Loss: 2.019211669980408\n",
      "Epoch  4/5, Loss: 1.9305134815476293\n",
      "Epoch  5/5, Loss: 1.8673972754016157\n"
     ]
    },
    {
     "data": {
      "image/png": "[encoded data removed]",
      "text/plain": [
       "<Figure size 640x480 with 1 Axes>"
      ]
     },
     "metadata": {},
     "output_type": "display_data"
    }
   ],
   "source": [
    "import torch.optim as optim\n",
    "\n",
    "def train(model, dataloader, epochs=5, lr=1e-3):\n",
    "    optimizer = optim.Adam(model.parameters(), lr=lr)\n",
    "    loss_fn, losses = nn.CrossEntropyLoss(), []\n",
    "    model.train()\n",
    "    for epoch in range(epochs):\n",
    "        total_loss = 0\n",
    "        for batch in dataloader:\n",
    "            outputs, targets = [], []\n",
    "            for x, y in batch:\n",
    "                output = model(x)\n",
    "                outputs.append(output)\n",
    "                targets.append(y)\n",
    "\n",
    "            outputs = torch.stack(outputs)\n",
    "            targets = torch.stack(targets)\n",
    "            loss = loss_fn(outputs, targets)\n",
    "\n",
    "            loss.backward()\n",
    "            optimizer.step()\n",
    "            optimizer.zero_grad()\n",
    "            loss = loss.item()\n",
    "            losses.append(loss)\n",
    "            total_loss += loss\n",
    "        print(f\"Epoch {epoch+1:>2}/{epochs}, Loss: {total_loss / len(dataloader)}\")\n",
    "    return losses\n",
    "\n",
    "\n",
    "losses = train(model, dataloader)\n",
    "\n",
    "plt.figure()\n",
    "plt.plot(losses)\n",
    "plt.show()"
   ]
  },
  {
   "cell_type": "markdown",
   "id": "63e26460",
   "metadata": {},
   "source": [
    "## 5. 模型验证"
   ]
  },
  {
   "cell_type": "code",
   "execution_count": 6,
   "id": "4c850418",
   "metadata": {},
   "outputs": [
    {
     "name": "stdout",
     "output_type": "stream",
     "text": [
      "     Czech: Bzhulein, Mcdeel, Hantick, Hormanek, Scheak\n",
      "    German: Ormarts, Selech, Frookel, BacjerEgh, Kwohpe\n",
      "    Arabic: Perneb, Bata, Kussah, Kahain, Hakali\n",
      "  Japanese: Maruma, Kesei, Ohama, Ishijowa, Kusi\n",
      "   Chinese: Ei, Yan, Paoe, Win, Yue\n",
      "Vietnamese: Deu, Gang, Shuoug, Awumn, Vku\n",
      "   Russian: Hafaevsky, Glopaeits, Jarujin, Hrigoretsykov, Vijtoe\n",
      "    French: Licgaufent, Caur, Juveald, Lexuet, Gandior\n",
      "     Irish: Rigur, Alenohmighuls, MalLon, Laghgad, Chaudliloghnoan\n",
      "   English: Loughli, Buarev, Shurmowa, Mchoy, Haar\n",
      "   Spanish: Camro, Uentinusoiel, Luzvelur, Artofi, Capurar\n",
      "     Greek: Atrisatara, Hraspa, Rerrazis, Develona, Arves\n",
      "   Italian: Dromonya, Amawa, Coldere, ilribo, Racte\n",
      "Portuguese: Salotora, Dagino, Miraces, Arealanoi, Tramidr\n",
      "  Scottish: Tofner, Weltritt, Alenair, Liccier, Noush\n",
      "     Dutch: Couet, Borz, Molfers, Kanr, Reamjewsons\n",
      "    Korean: Ue, Mveng, Cheng, Toa-, Ching\n",
      "    Polish: Nydachki, Protovayjchik, Stúrske, Stark, Domarez\n"
     ]
    }
   ],
   "source": [
    "@torch.no_grad()\n",
    "def generate(model, nation):\n",
    "    model.eval()\n",
    "    index = nations.index(nation)\n",
    "    y = torch.tensor([]).float().view(0, vocab_size)\n",
    "    while True:\n",
    "        x = torch.zeros(1, vocab_size).float()\n",
    "        x[0, index] = 1.0\n",
    "        y = torch.cat((y, x), dim=0)\n",
    "        index = model(y).softmax(dim=0).multinomial(1).item()\n",
    "        if index <= len(nations):\n",
    "            break\n",
    "    return y[1:]\n",
    "\n",
    "\n",
    "for nation in nations:\n",
    "    print(\n",
    "        f\"{nation:>10}: {\", \".join(\n",
    "            one_hot_decode(generate(model, nation)) for _ in range(5)\n",
    "        )}\"\n",
    "    )"
   ]
  }
 ],
 "metadata": {
  "kernelspec": {
   "display_name": "base",
   "language": "python",
   "name": "python3"
  },
  "language_info": {
   "codemirror_mode": {
    "name": "ipython",
    "version": 3
   },
   "file_extension": ".py",
   "mimetype": "text/x-python",
   "name": "python",
   "nbconvert_exporter": "python",
   "pygments_lexer": "ipython3",
   "version": "3.13.5"
  }
 },
 "nbformat": 4,
 "nbformat_minor": 5
}
